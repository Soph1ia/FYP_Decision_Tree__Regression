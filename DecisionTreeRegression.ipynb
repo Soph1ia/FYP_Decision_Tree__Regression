{
 "cells": [
  {
   "cell_type": "code",
   "execution_count": 49,
   "metadata": {},
   "outputs": [],
   "source": [
    "import pandas as pd\n",
    "from sklearn import preprocessing\n",
    "from sklearn.utils import shuffle\n",
    "from sklearn.tree import DecisionTreeRegressor\n",
    "from sklearn.preprocessing import StandardScaler, Normalizer, RobustScaler\n",
    "from sklearn.pipeline import Pipeline"
   ]
  },
  {
   "cell_type": "markdown",
   "metadata": {},
   "source": [
    "# Step One: Training Data Preparation "
   ]
  },
  {
   "cell_type": "code",
   "execution_count": 50,
   "metadata": {},
   "outputs": [],
   "source": [
    "def prepare_training_data():\n",
    "    col_names = ['programming_language', 'cpu_intensity', 'memory_intensity', 'memory_size', 'provider', 'throughput']\n",
    "    data = pd.read_csv('data/Machine-Learning-Data.csv', header=None, names=col_names)\n",
    "    \n",
    "    # Format the data to map categorical to numerical values\n",
    "    map_language_to_number = {'Java ': 0, 'Python': 1, 'Ruby': 2, 'NodeJs': 3, 'Go': 4}\n",
    "    map_mem_intensity = {'no': 0, 'yes': 1}\n",
    "    map_cpu_intensity_to_number = {'low': 1, 'medium': 2, 'high': 3, 'no': 0}\n",
    "\n",
    "    # Format the main data\n",
    "    data['programming_language'] = data['programming_language'].map(map_language_to_number)\n",
    "    data['cpu_intensity'] = data['cpu_intensity'].map(map_cpu_intensity_to_number)\n",
    "    data['memory_intensity'] = data['memory_intensity'].map(map_mem_intensity)\n",
    "    \n",
    "    # Shuffle the data\n",
    "    data = shuffle(data)\n",
    "    data = data.sample(frac=1)\n",
    "    \n",
    "    # split into feature and label\n",
    "    features = ['programming_language', 'cpu_intensity', 'memory_intensity', 'memory_size', 'provider']\n",
    "    label = ['throughput']\n",
    "\n",
    "    X_train = data[features]\n",
    "    y_train = data[label]  \n",
    "    \n",
    "    return X_train, y_train"
   ]
  },
  {
   "cell_type": "markdown",
   "metadata": {},
   "source": [
    "# Step Two : Test Data Preparation"
   ]
  },
  {
   "cell_type": "code",
   "execution_count": 51,
   "metadata": {},
   "outputs": [],
   "source": [
    "def prepare_test_data():\n",
    "    # Read the testing data\n",
    "    col_names = ['programming_language', 'cpu_intensity', 'memory_intensity', 'memory_size', 'provider', 'throughput']\n",
    "    data = pd.read_csv('data/testing-data.txt', header=None, names=col_names)\n",
    "\n",
    "    # Format the data to map categorical to numerical values\n",
    "    map_language_to_number = {'Java ': 0, 'Python': 1, 'Ruby': 2, 'NodeJs': 3, 'Go': 4}\n",
    "    map_mem_intensity = {'no': 0, 'yes': 1}\n",
    "    map_cpu_intensity_to_number = {'low': 1, 'medium': 2, 'high': 3, 'no': 0}\n",
    "\n",
    "    # Format the main data\n",
    "    data['programming_language'] = data['programming_language'].map(map_language_to_number)\n",
    "    data['cpu_intensity'] = data['cpu_intensity'].map(map_cpu_intensity_to_number)\n",
    "    data['memory_intensity'] = data['memory_intensity'].map(map_mem_intensity)\n",
    "\n",
    "    # split into feature and label\n",
    "    features = ['programming_language', 'cpu_intensity', 'memory_intensity', 'memory_size', 'provider']\n",
    "    label = ['throughput']\n",
    "    \n",
    "    x_test = data[features]\n",
    "    y_test = data[label]\n",
    "\n",
    "    return x_test, y_test"
   ]
  },
  {
   "cell_type": "markdown",
   "metadata": {},
   "source": [
    "# Step Three : Train Model "
   ]
  },
  {
   "cell_type": "code",
   "execution_count": 52,
   "metadata": {},
   "outputs": [],
   "source": [
    "# Create a pipeline for Decision Tree Regression\n",
    "dtr_pipeline = Pipeline([\n",
    "    ('scalar', StandardScaler()),\n",
    "    ('dtr_model', DecisionTreeRegressor(max_depth=5))\n",
    "])"
   ]
  },
  {
   "cell_type": "code",
   "execution_count": 53,
   "metadata": {},
   "outputs": [],
   "source": [
    "# Get The Training Data\n",
    "X_train,y_train = prepare_training_data()"
   ]
  },
  {
   "cell_type": "code",
   "execution_count": 54,
   "metadata": {},
   "outputs": [
    {
     "data": {
      "text/plain": [
       "Pipeline(steps=[('scalar', StandardScaler()),\n",
       "                ('dtr_model', DecisionTreeRegressor(max_depth=5))])"
      ]
     },
     "execution_count": 54,
     "metadata": {},
     "output_type": "execute_result"
    }
   ],
   "source": [
    "# Fit the Data \n",
    "dtr_pipeline.fit(X_train,y_train)"
   ]
  },
  {
   "cell_type": "markdown",
   "metadata": {},
   "source": [
    "### Print Tree Structure "
   ]
  },
  {
   "cell_type": "code",
   "execution_count": 55,
   "metadata": {},
   "outputs": [],
   "source": [
    "from sklearn.tree import export_graphviz\n",
    "\n",
    "features = ['programming_language', 'cpu_intensity', 'memory_intensity', 'memory_size', 'provider']\n",
    "label = ['throughput']\n",
    "\n",
    "export_graphviz(dtr_pipeline[1],out_file='tree.dot')"
   ]
  },
  {
   "cell_type": "markdown",
   "metadata": {},
   "source": [
    "# Step Four : Test Model "
   ]
  },
  {
   "cell_type": "markdown",
   "metadata": {},
   "source": [
    "### Test Model using Training Data "
   ]
  },
  {
   "cell_type": "code",
   "execution_count": 56,
   "metadata": {},
   "outputs": [
    {
     "name": "stdout",
     "output_type": "stream",
     "text": [
      "Accuracy : 0.9542864398605515\n"
     ]
    }
   ],
   "source": [
    "accuracy = dtr_pipeline.score(X_train,y_train)\n",
    "print(\"Accuracy : {}\".format(accuracy))"
   ]
  },
  {
   "cell_type": "markdown",
   "metadata": {},
   "source": [
    "### Test Model using Testing Data"
   ]
  },
  {
   "cell_type": "code",
   "execution_count": 58,
   "metadata": {},
   "outputs": [
    {
     "name": "stdout",
     "output_type": "stream",
     "text": [
      "   programming_language  cpu_intensity  memory_intensity  memory_size  \\\n",
      "0                     4              0                 1          128   \n",
      "1                     4              3                 1          128   \n",
      "2                     3              1                 0         2048   \n",
      "\n",
      "   provider  \n",
      "0         1  \n",
      "1         1  \n",
      "2         1  \n",
      "Accuracy : 0.949238100930556\n"
     ]
    }
   ],
   "source": [
    "# Get the testing data \n",
    "x_test,y_test = prepare_test_data()\n",
    "test_accuracy = dtr_pipeline.score(x_test,y_test)\n",
    "print(\"Accuracy : {}\".format(test_accuracy))"
   ]
  },
  {
   "cell_type": "code",
   "execution_count": 61,
   "metadata": {},
   "outputs": [
    {
     "name": "stdout",
     "output_type": "stream",
     "text": [
      "[array([  0.        ,   3.75923402, 305.3625    ]),    throughput\n",
      "0    0.000000\n",
      "1    1.489731\n",
      "2  373.987000]\n"
     ]
    }
   ],
   "source": [
    "# print out predicted and actual\n",
    "y_prediction = dtr_pipeline.predict(x_test)\n",
    "\n",
    "predicted_actual = [y_prediction, y_test]\n",
    "print(predicted_actual)\n",
    "# for i in predicted_actual:\n",
    "#     print(\"Predicted value: {} | Actual Value: {}\".format(i,j))"
   ]
  },
  {
   "cell_type": "code",
   "execution_count": null,
   "metadata": {},
   "outputs": [],
   "source": []
  }
 ],
 "metadata": {
  "kernelspec": {
   "display_name": "Python 3",
   "language": "python",
   "name": "python3"
  },
  "language_info": {
   "codemirror_mode": {
    "name": "ipython",
    "version": 3
   },
   "file_extension": ".py",
   "mimetype": "text/x-python",
   "name": "python",
   "nbconvert_exporter": "python",
   "pygments_lexer": "ipython3",
   "version": "3.8.5"
  }
 },
 "nbformat": 4,
 "nbformat_minor": 4
}
