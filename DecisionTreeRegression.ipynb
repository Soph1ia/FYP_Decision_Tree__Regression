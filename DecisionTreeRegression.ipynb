{
 "cells": [
  {
   "cell_type": "code",
   "execution_count": 1,
   "metadata": {},
   "outputs": [],
   "source": [
    "import pandas as pd\n",
    "from sklearn import preprocessing\n",
    "from sklearn.utils import shuffle\n",
    "from sklearn.tree import DecisionTreeRegressor\n",
    "from sklearn.preprocessing import StandardScaler, Normalizer, RobustScaler,MinMaxScaler\n",
    "from sklearn.pipeline import Pipeline"
   ]
  },
  {
   "cell_type": "markdown",
   "metadata": {},
   "source": [
    "# Step One: Training Data Preparation "
   ]
  },
  {
   "cell_type": "code",
   "execution_count": 2,
   "metadata": {},
   "outputs": [],
   "source": [
    "def prepare_training_data():\n",
    "    col_names = ['programming_language', 'cpu_intensity', 'memory_intensity', 'memory_size', 'provider', 'throughput']\n",
    "    data = pd.read_csv('data/Machine-Learning-Data.csv', header=None, names=col_names)\n",
    "    \n",
    "    # Format the data to map categorical to numerical values\n",
    "    map_language_to_number = {'Java ': 0, 'Python': 1, 'Ruby': 2, 'NodeJs': 3, 'Go': 4}\n",
    "    map_mem_intensity = {'no': 0, 'yes': 1}\n",
    "    map_cpu_intensity_to_number = {'low': 1, 'medium': 2, 'high': 3, 'no': 0}\n",
    "\n",
    "    # Format the main data\n",
    "    data['programming_language'] = data['programming_language'].map(map_language_to_number)\n",
    "    data['cpu_intensity'] = data['cpu_intensity'].map(map_cpu_intensity_to_number)\n",
    "    data['memory_intensity'] = data['memory_intensity'].map(map_mem_intensity)\n",
    "    \n",
    "    # Shuffle the data\n",
    "    data = shuffle(data)\n",
    "    data = data.sample(frac=1)\n",
    "    \n",
    "    # split into feature and label\n",
    "    features = ['programming_language', 'cpu_intensity', 'memory_intensity', 'memory_size', 'provider']\n",
    "    label = ['throughput']\n",
    "\n",
    "    X_train = data[features]\n",
    "    y_train = data[label]  \n",
    "    \n",
    "    return X_train, y_train"
   ]
  },
  {
   "cell_type": "markdown",
   "metadata": {},
   "source": [
    "# Step Two : Test Data Preparation"
   ]
  },
  {
   "cell_type": "code",
   "execution_count": 3,
   "metadata": {},
   "outputs": [],
   "source": [
    "def prepare_test_data():\n",
    "    # Read the testing data\n",
    "    col_names = ['programming_language', 'cpu_intensity', 'memory_intensity', 'memory_size', 'provider', 'throughput']\n",
    "    data = pd.read_csv('data/new-testing-data.csv', header=None, names=col_names)\n",
    "\n",
    "    # Format the data to map categorical to numerical values\n",
    "    map_language_to_number = {'Java ': 0, 'Python': 1, 'Ruby': 2, 'NodeJs': 3, 'Go': 4}\n",
    "    map_mem_intensity = {'no': 0, 'yes': 1}\n",
    "    map_cpu_intensity_to_number = {'low': 1, 'medium': 2, 'high': 3, 'no': 0}\n",
    "\n",
    "    # Format the main data\n",
    "    data['programming_language'] = data['programming_language'].map(map_language_to_number)\n",
    "    data['cpu_intensity'] = data['cpu_intensity'].map(map_cpu_intensity_to_number)\n",
    "    data['memory_intensity'] = data['memory_intensity'].map(map_mem_intensity)\n",
    "\n",
    "    # split into feature and label\n",
    "    features = ['programming_language', 'cpu_intensity', 'memory_intensity', 'memory_size', 'provider']\n",
    "    label = ['throughput']\n",
    "    \n",
    "    x_test = data[features]\n",
    "    y_test = data[label]\n",
    "\n",
    "    return x_test, y_test"
   ]
  },
  {
   "cell_type": "markdown",
   "metadata": {},
   "source": [
    "# Step Three : Train Model "
   ]
  },
  {
   "cell_type": "code",
   "execution_count": 4,
   "metadata": {},
   "outputs": [],
   "source": [
    "# Create a pipeline for Decision Tree Regression\n",
    "dtr_pipeline = Pipeline([\n",
    "    ('scalar', MinMaxScaler()),\n",
    "    ('dtr_model', DecisionTreeRegressor(max_depth=5))\n",
    "])"
   ]
  },
  {
   "cell_type": "code",
   "execution_count": 5,
   "metadata": {},
   "outputs": [],
   "source": [
    "# Get The Training Data\n",
    "X_train,y_train = prepare_training_data()"
   ]
  },
  {
   "cell_type": "code",
   "execution_count": 6,
   "metadata": {},
   "outputs": [
    {
     "data": {
      "text/plain": [
       "Pipeline(steps=[('scalar', MinMaxScaler()),\n",
       "                ('dtr_model', DecisionTreeRegressor(max_depth=5))])"
      ]
     },
     "execution_count": 6,
     "metadata": {},
     "output_type": "execute_result"
    }
   ],
   "source": [
    "# Fit the Data \n",
    "dtr_pipeline.fit(X_train,y_train)"
   ]
  },
  {
   "cell_type": "markdown",
   "metadata": {},
   "source": [
    "### Print Tree Structure "
   ]
  },
  {
   "cell_type": "code",
   "execution_count": 7,
   "metadata": {},
   "outputs": [],
   "source": [
    "from sklearn.tree import export_graphviz\n",
    "\n",
    "features = ['programming_language', 'cpu_intensity', 'memory_intensity', 'memory_size', 'provider']\n",
    "label = ['throughput']\n",
    "\n",
    "export_graphviz(dtr_pipeline[1],out_file='tree.dot')"
   ]
  },
  {
   "cell_type": "markdown",
   "metadata": {},
   "source": [
    "# Step Four : Test Model "
   ]
  },
  {
   "cell_type": "markdown",
   "metadata": {},
   "source": [
    "### Test Model using Training Data "
   ]
  },
  {
   "cell_type": "code",
   "execution_count": 8,
   "metadata": {},
   "outputs": [
    {
     "name": "stdout",
     "output_type": "stream",
     "text": [
      "Accuracy : 0.9542864398605515\n"
     ]
    }
   ],
   "source": [
    "accuracy = dtr_pipeline.score(X_train,y_train)\n",
    "print(\"Accuracy : {}\".format(accuracy))"
   ]
  },
  {
   "cell_type": "markdown",
   "metadata": {},
   "source": [
    "### Test Model using Testing Data"
   ]
  },
  {
   "cell_type": "code",
   "execution_count": 9,
   "metadata": {},
   "outputs": [
    {
     "name": "stdout",
     "output_type": "stream",
     "text": [
      "Accuracy : 0.9425140385692615\n"
     ]
    }
   ],
   "source": [
    "# Get the testing data \n",
    "x_test,y_test = prepare_test_data()\n",
    "# print(x_test)\n",
    "test_accuracy = dtr_pipeline.score(x_test,y_test)\n",
    "print(\"Accuracy : {}\".format(test_accuracy))"
   ]
  },
  {
   "cell_type": "code",
   "execution_count": 10,
   "metadata": {
    "scrolled": true
   },
   "outputs": [
    {
     "name": "stdout",
     "output_type": "stream",
     "text": [
      "Predicted value: 0.0 | Actual Value: [0.0]\n",
      "Predicted value: 3.759234024 | Actual Value: [1.489730811]\n",
      "Predicted value: 3.759234024 | Actual Value: [3.04]\n",
      "Predicted value: 11.868559648 | Actual Value: [7.651421789]\n",
      "Predicted value: 305.3625 | Actual Value: [373.98699999999997]\n",
      "Predicted value: 176.86874999999998 | Actual Value: [189.236]\n",
      "Predicted value: 176.86874999999998 | Actual Value: [249.885]\n",
      "Predicted value: 969.5999999999999 | Actual Value: [1254.72]\n",
      "Predicted value: 0.4213 | Actual Value: [0.161]\n",
      "Predicted value: 0.13919444254166666 | Actual Value: [0.039]\n",
      "Predicted value: 0.13919444254166666 | Actual Value: [0.078]\n",
      "Predicted value: 0.03807533333333333 | Actual Value: [10.32626138]\n",
      "Predicted value: 0.8261588706999999 | Actual Value: [0.9765907559999999]\n",
      "Predicted value: 0.17728179766666666 | Actual Value: [0.212836479]\n",
      "Predicted value: 0.30331764175000003 | Actual Value: [0.418773377]\n",
      "Predicted value: 0.0003838430833333333 | Actual Value: [0.001163706]\n",
      "Predicted value: 0.17009987116666667 | Actual Value: [0.07461873599999999]\n",
      "Predicted value: 0.03806181483333333 | Actual Value: [0.021997582999999998]\n",
      "Predicted value: 0.03806181483333333 | Actual Value: [0.036961335]\n",
      "Predicted value: 0.0003838430833333333 | Actual Value: [0.010249835]\n"
     ]
    }
   ],
   "source": [
    "# print out predicted and actual\n",
    "y_prediction = dtr_pipeline.predict(x_test)\n",
    "\n",
    "prediction = y_prediction.tolist()\n",
    "actual = y_test.values.tolist()\n",
    "\n",
    "for i in range(0,20):\n",
    "    print(\"Predicted value: {} | Actual Value: {}\".format(prediction[i],actual[i]))"
   ]
  },
  {
   "cell_type": "markdown",
   "metadata": {},
   "source": [
    "### Cross Fold Validation "
   ]
  },
  {
   "cell_type": "code",
   "execution_count": 15,
   "metadata": {
    "scrolled": true
   },
   "outputs": [
    {
     "name": "stdout",
     "output_type": "stream",
     "text": [
      "Accuracy: 0.769 (0.200)\n"
     ]
    }
   ],
   "source": [
    "from sklearn.model_selection import RepeatedKFold\n",
    "from sklearn.model_selection import cross_val_score\n",
    "\n",
    "cv = RepeatedKFold(n_splits=10,n_repeats=3)\n",
    "\n",
    "scores = cross_val_score(estimator=dtr_pipeline, X=X_train,y=y_train, scoring='r2', cv=cv, n_jobs=-1)\n",
    "print('Accuracy: %.3f (%.3f)' % (scores.mean(), scores.std()))"
   ]
  },
  {
   "cell_type": "code",
   "execution_count": 12,
   "metadata": {},
   "outputs": [
    {
     "name": "stdout",
     "output_type": "stream",
     "text": [
      "[ 0.84255377  0.86339384  0.96185089  0.88903988  0.91963937  0.75432672\n",
      "  0.89240717  0.77476739  0.43393478  0.45777863  0.82186422  0.96966286\n",
      "  0.32102943  0.55431856  0.86356752  0.79807289  0.92443929  0.84941224\n",
      "  0.68048697  0.88727709  0.96146302  0.86867045  0.18045819  0.54180303\n",
      "  0.97364977  0.93147582  0.93400243 -1.50588093  0.63205756  0.65526434]\n"
     ]
    }
   ],
   "source": [
    "print(scores)"
   ]
  },
  {
   "cell_type": "code",
   "execution_count": null,
   "metadata": {},
   "outputs": [],
   "source": []
  },
  {
   "cell_type": "code",
   "execution_count": null,
   "metadata": {},
   "outputs": [],
   "source": []
  }
 ],
 "metadata": {
  "kernelspec": {
   "display_name": "Python 3",
   "language": "python",
   "name": "python3"
  },
  "language_info": {
   "codemirror_mode": {
    "name": "ipython",
    "version": 3
   },
   "file_extension": ".py",
   "mimetype": "text/x-python",
   "name": "python",
   "nbconvert_exporter": "python",
   "pygments_lexer": "ipython3",
   "version": "3.8.5"
  }
 },
 "nbformat": 4,
 "nbformat_minor": 4
}
